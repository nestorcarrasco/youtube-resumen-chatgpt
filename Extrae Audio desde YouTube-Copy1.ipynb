{
 "cells": [
  {
   "cell_type": "code",
   "execution_count": 1,
   "id": "294e2d56",
   "metadata": {},
   "outputs": [],
   "source": [
    "from pytube import YouTube\n",
    "from moviepy.editor import *\n",
    "import os\n",
    "import openai\n",
    "import numpy as np"
   ]
  },
  {
   "cell_type": "code",
   "execution_count": 2,
   "id": "b070d3f8",
   "metadata": {},
   "outputs": [
    {
     "name": "stdout",
     "output_type": "stream",
     "text": [
      "MoviePy - Writing audio in audio_q5I9lP2mf6M.mp3\n"
     ]
    },
    {
     "name": "stderr",
     "output_type": "stream",
     "text": [
      "                                                                                "
     ]
    },
    {
     "name": "stdout",
     "output_type": "stream",
     "text": [
      "MoviePy - Done.\n"
     ]
    },
    {
     "name": "stderr",
     "output_type": "stream",
     "text": [
      "\r"
     ]
    }
   ],
   "source": [
    "# URL del video de YouTube que se desea descargar\n",
    "video_id = 'q5I9lP2mf6M'\n",
    "url = \"https://www.youtube.com/watch?v=\"+video_id\n",
    "\n",
    "# Configuración de nombres según ID de Video\n",
    "temp_file = 'audio_'+video_id+'.mp4'\n",
    "final_file = 'audio_'+video_id+'.mp3'\n",
    "\n",
    "# Descargar el video usando pytube\n",
    "yt = YouTube(url)\n",
    "stream = yt.streams.filter(only_audio=True).first()\n",
    "stream.download(output_path='./', filename=temp_file)\n",
    "\n",
    "# Especificar la ruta absoluta del archivo de video\n",
    "current_dir = os.path.abspath(os.getcwd())\n",
    "video_temporal = os.path.join(current_dir, temp_file)\n",
    "\n",
    "# Extraer el audio del video descargado usando moviepy\n",
    "clip = AudioFileClip(video_temporal)\n",
    "\n",
    "# Guardar el archivo de audio final como Mp3 con la tasa de muestreo especificado\n",
    "clip.write_audiofile(final_file, codec=\"libmp3lame\", fps=16000, bitrate=\"16k\")\n",
    "\n",
    "# Eliminar el archivo de video descargado de forma temporal\n",
    "os.remove(video_temporal)"
   ]
  },
  {
   "cell_type": "code",
   "execution_count": 2,
   "id": "e269e9d4",
   "metadata": {},
   "outputs": [
    {
     "name": "stderr",
     "output_type": "stream",
     "text": [
      "/Users/ncarral/opt/anaconda3/lib/python3.9/site-packages/whisper/transcribe.py:113: UserWarning: FP16 is not supported on CPU; using FP32 instead\n",
      "  warnings.warn(\"FP16 is not supported on CPU; using FP32 instead\")\n"
     ]
    }
   ],
   "source": [
    "import whisper\n",
    "model = whisper.load_model(\"tiny\")\n",
    "result = model.transcribe(\"audio_q5I9lP2mf6M.mp3\")"
   ]
  },
  {
   "cell_type": "code",
   "execution_count": 3,
   "id": "b3ec3cc2",
   "metadata": {},
   "outputs": [
    {
     "name": "stdout",
     "output_type": "stream",
     "text": [
      "Bing Chat es una nueva herramienta de inteligencia artificial (AI) que ha sido desarrollada para mejorar la experiencia de internet. \n",
      "La herramienta está diseñada para ofrecer una experiencia similar a la de una conversación con otra persona al ver un video en línea. \n",
      "Está disponible para el navegador Microsoft Edge mediante la descarga del canal Dev.\n",
      "Además de la función de chat, también hay una característica de composición que permite a los usuarios redactar un correo electrónico o un borrador con un tono entusiasta. \n",
      "Bing Chat tiene una capacidad de búsqueda avanzada y se puede utilizar para resumir artículos y contenido en línea. \n",
      "El AI puede responder preguntas contextuales sobre un tema específico.\n",
      "Bing Chat también puede ofrecer una descripción detallada sobre temas controversiales, como la rivalidad con Googlebot.\n",
      "La herramienta también puede proporcionar marcadores de tiempo para videos, aunque todavía no está totalmente integrada.\n",
      "La inteligencia artificial de Bing es cada vez más sofisticada y espera una mayor integración con el futuro.\n",
      "La herramienta es gratuita y está disponible para los usuarios que hayan completado el proceso de espera de la lista de espera de Bing Chat.\n"
     ]
    }
   ],
   "source": [
    "import openai\n",
    "import re\n",
    "\n",
    "openai.api_key = \"TU API KEY\"\n",
    "\n",
    "def summarize_text(text):\n",
    "    # Eliminar líneas en blanco\n",
    "    text = re.sub(r'\\n\\s*\\n', '\\n', text)\n",
    "    # Enviar solicitud a la API de OpenAI\n",
    "    response = openai.Completion.create(\n",
    "        engine=\"text-davinci-003\",\n",
    "        prompt=f\"Dame un resumen en español de 10 puntos sobre el siguiente texto:\\n{text}\\n\\n1.\",\n",
    "        temperature=0.7,\n",
    "        max_tokens=500,\n",
    "        n=1,\n",
    "        stop=None,\n",
    "        )\n",
    "    # Obtener la respuesta y formatearla\n",
    "    summary = response.choices[0].text.strip()\n",
    "    summary = re.sub(r'^\\d+\\.\\s*', '', summary, flags=re.MULTILINE)\n",
    "    summary = re.sub(r'\\n\\d+\\.\\s*', '\\n', summary)\n",
    "    return summary\n",
    "\n",
    "texto = result[\"text\"]\n",
    "\n",
    "resumen = summarize_text(texto)\n",
    "\n",
    "print(resumen)\n"
   ]
  },
  {
   "cell_type": "code",
   "execution_count": null,
   "id": "61fd738a",
   "metadata": {},
   "outputs": [],
   "source": []
  }
 ],
 "metadata": {
  "kernelspec": {
   "display_name": "Python 3 (ipykernel)",
   "language": "python",
   "name": "python3"
  },
  "language_info": {
   "codemirror_mode": {
    "name": "ipython",
    "version": 3
   },
   "file_extension": ".py",
   "mimetype": "text/x-python",
   "name": "python",
   "nbconvert_exporter": "python",
   "pygments_lexer": "ipython3",
   "version": "3.9.13"
  }
 },
 "nbformat": 4,
 "nbformat_minor": 5
}
